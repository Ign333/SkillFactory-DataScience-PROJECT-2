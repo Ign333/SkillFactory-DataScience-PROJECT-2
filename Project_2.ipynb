{
  "cells": [
    {
      "cell_type": "markdown",
      "id": "42289889-bd57-434e-9637-d3e354756316",
      "metadata": {
        "id": "42289889-bd57-434e-9637-d3e354756316"
      },
      "source": [
        "<center> <img src = https://raw.githubusercontent.com/AndreyRysistov/DatasetsForPandas/main/hh%20label.jpg alt=\"drawing\" style=\"width:400px;\">"
      ]
    },
    {
      "cell_type": "markdown",
      "id": "829cb75b-f14e-4ba8-9195-7ba929a7d656",
      "metadata": {
        "id": "829cb75b-f14e-4ba8-9195-7ba929a7d656",
        "tags": []
      },
      "source": [
        "# <center> Проект: Анализ вакансий из HeadHunter\n",
        "   "
      ]
    },
    {
      "cell_type": "code",
      "execution_count": 33,
      "id": "dccfde33-2452-43fb-a8a5-5c6ebc02a71d",
      "metadata": {
        "id": "dccfde33-2452-43fb-a8a5-5c6ebc02a71d"
      },
      "outputs": [],
      "source": [
        "import pandas as pd\n",
        "import psycopg2"
      ]
    },
    {
      "cell_type": "code",
      "execution_count": 40,
      "id": "oVKH4ehvf8Ay",
      "metadata": {
        "id": "oVKH4ehvf8Ay"
      },
      "outputs": [],
      "source": [
        "# вставьте сюда параметры подключения из юнита 1. Работа с базой данных из Python \n",
        "DBNAME = ''\n",
        "USER = ''\n",
        "PASSWORD = ''\n",
        "HOST = ''\n",
        "PORT = 0"
      ]
    },
    {
      "cell_type": "code",
      "execution_count": 44,
      "id": "G4X_q8KBf7SF",
      "metadata": {
        "id": "G4X_q8KBf7SF"
      },
      "outputs": [],
      "source": [
        "connection = psycopg2.connect(\n",
        "    dbname=DBNAME,\n",
        "    user=USER,\n",
        "    host=HOST,\n",
        "    password=PASSWORD,\n",
        "    port=PORT\n",
        ")"
      ]
    },
    {
      "cell_type": "markdown",
      "id": "0dc6476b-7a00-44f1-ac93-6e3baed33a29",
      "metadata": {
        "id": "0dc6476b-7a00-44f1-ac93-6e3baed33a29"
      },
      "source": [
        "# Юнит 3. Предварительный анализ данных"
      ]
    },
    {
      "cell_type": "markdown",
      "id": "889782b6-8d1c-410e-8920-e57f27917c64",
      "metadata": {
        "id": "889782b6-8d1c-410e-8920-e57f27917c64"
      },
      "source": [
        "1. Напишите запрос, который посчитает количество вакансий в нашей базе (вакансии находятся в таблице vacancies). "
      ]
    },
    {
      "cell_type": "code",
      "execution_count": null,
      "id": "bc39e68e-ed02-4ee2-9235-7258a2f867a8",
      "metadata": {
        "id": "bc39e68e-ed02-4ee2-9235-7258a2f867a8"
      },
      "outputs": [],
      "source": [
        "# текст запроса\n",
        "query_3_1 = f'''\n",
        "    select \n",
        "        count(*) as cnt \n",
        "    from public.vacancies\n",
        "'''\n",
        "df_3_1 = pd.read_sql_query(query_3_1, connection)\n",
        "df_3_1"
      ]
    },
    {
      "cell_type": "markdown",
      "id": "7mAwtsk4hEHY",
      "metadata": {
        "id": "7mAwtsk4hEHY"
      },
      "source": [
        "---\n",
        "### <span style=\"color:green\">результат запроса</span>\n",
        "<span style=\"color:yellow\">\n",
        "49197\n",
        "</span>\n",
        "\n",
        "---"
      ]
    },
    {
      "cell_type": "markdown",
      "id": "b583485d-1f9e-494e-ada4-80ffff7c53d6",
      "metadata": {
        "id": "b583485d-1f9e-494e-ada4-80ffff7c53d6"
      },
      "source": [
        "2. Напишите запрос, который посчитает количество работодателей (таблица employers). "
      ]
    },
    {
      "cell_type": "code",
      "execution_count": null,
      "id": "5408c52c-3407-4a63-b25b-1aafa2322d28",
      "metadata": {
        "id": "5408c52c-3407-4a63-b25b-1aafa2322d28"
      },
      "outputs": [],
      "source": [
        "# текст запроса\n",
        "query_3_2 = f'''\n",
        "    select \n",
        "        count(*) as cnt \n",
        "    from \n",
        "        public.employers\n",
        "'''\n",
        "df_3_2 = pd.read_sql_query(query_3_2, connection)\n",
        "df_3_2"
      ]
    },
    {
      "cell_type": "markdown",
      "id": "jVL4eshKhdqc",
      "metadata": {
        "id": "jVL4eshKhdqc"
      },
      "source": [
        "---\n",
        "### <span style=\"color:green\">результат запроса</span>\n",
        "<span style=\"color:yellow\">\n",
        "23501\n",
        "</span>\n",
        "\n",
        "---"
      ]
    },
    {
      "cell_type": "markdown",
      "id": "a2bfff1f-c975-4bf6-84be-2185d79dcb76",
      "metadata": {
        "id": "a2bfff1f-c975-4bf6-84be-2185d79dcb76"
      },
      "source": [
        "3. Посчитате с помощью запроса количество регионов (таблица areas)."
      ]
    },
    {
      "cell_type": "code",
      "execution_count": null,
      "id": "1m8QJwBYhey6",
      "metadata": {
        "id": "1m8QJwBYhey6"
      },
      "outputs": [],
      "source": [
        "# текст запроса\n",
        "query_3_3 = f'''\n",
        "    select \n",
        "        count(*) as cnt \n",
        "    from \n",
        "        public.areas    \n",
        "'''\n",
        "df_3_3 = pd.read_sql_query(query_3_3, connection)\n",
        "df_3_3"
      ]
    },
    {
      "cell_type": "markdown",
      "id": "EZsn9tlfhe7f",
      "metadata": {
        "id": "EZsn9tlfhe7f"
      },
      "source": [
        "---\n",
        "### <span style=\"color:green\">результат запроса</span>\n",
        "<span style=\"color:yellow\">\n",
        "1362\n",
        "</span>\n",
        "\n",
        "---"
      ]
    },
    {
      "cell_type": "markdown",
      "id": "41bb59f3-53cc-4a67-a5bc-bedf573955e4",
      "metadata": {
        "id": "41bb59f3-53cc-4a67-a5bc-bedf573955e4"
      },
      "source": [
        "4. Посчитате с помощью запроса количество сфер деятельности в базе (таблица industries)."
      ]
    },
    {
      "cell_type": "code",
      "execution_count": null,
      "id": "d286cf4c-707b-4cd2-9190-7ab3587d04a1",
      "metadata": {
        "id": "d286cf4c-707b-4cd2-9190-7ab3587d04a1"
      },
      "outputs": [],
      "source": [
        "# текст запроса\n",
        "query_3_4 = f'''\n",
        "    select \n",
        "        count(*) as cnt \n",
        "    from \n",
        "        public.industries\n",
        "'''\n",
        "df_3_4 = pd.read_sql_query(query_3_4, connection)\n",
        "df_3_4\n",
        "\n"
      ]
    },
    {
      "cell_type": "markdown",
      "id": "JYAaoZ4qhfzW",
      "metadata": {
        "id": "JYAaoZ4qhfzW"
      },
      "source": [
        "---\n",
        "### <span style=\"color:green\">результат запроса</span>\n",
        "<span style=\"color:yellow\">\n",
        "294\n",
        "</span>\n"
      ]
    },
    {
      "cell_type": "markdown",
      "id": "9a8a2181-6914-448b-85f1-38f5f18b8a93",
      "metadata": {
        "id": "9a8a2181-6914-448b-85f1-38f5f18b8a93"
      },
      "source": [
        "***"
      ]
    },
    {
      "cell_type": "markdown",
      "id": "be4e9bd3-a4db-4a20-82fb-6b02fc2957e0",
      "metadata": {
        "id": "be4e9bd3-a4db-4a20-82fb-6b02fc2957e0"
      },
      "source": [
        "## <span style=\"color:red\">выводы по предварительному анализу данных</span>\n",
        "\n",
        "На данном этапе мы посчитали лишь количество записей в таблицах базы данных, но на основе этих данных можно заключить, что база данных представляет собой достаточно репрезентативную выборку о большом количестве работодателей из большого количества городов и различных сфер деятельности\n",
        "\n",
        "\n",
        "***"
      ]
    },
    {
      "cell_type": "markdown",
      "id": "8d62a9f3-f64e-4fe7-bdac-c4dffa16155e",
      "metadata": {
        "id": "8d62a9f3-f64e-4fe7-bdac-c4dffa16155e"
      },
      "source": [
        "# Юнит 4. Детальный анализ вакансий"
      ]
    },
    {
      "cell_type": "markdown",
      "id": "93053d3d-b284-481a-9cf7-012d7014c0e0",
      "metadata": {
        "id": "93053d3d-b284-481a-9cf7-012d7014c0e0"
      },
      "source": [
        "1. Напишите запрос, который позволит узнать, сколько (cnt) вакансий в каждом регионе (area).\n",
        "Отсортируйте по количеству вакансий в порядке убывания."
      ]
    },
    {
      "cell_type": "code",
      "execution_count": null,
      "id": "3f069da6-fdc9-4ae7-b514-fafe2675efd3",
      "metadata": {
        "id": "3f069da6-fdc9-4ae7-b514-fafe2675efd3"
      },
      "outputs": [],
      "source": [
        "# текст запроса\n",
        "query_4_1 = f'''\n",
        "    select \n",
        "        a.name as area,\n",
        "        count(v.id) as cnt\n",
        "    from\n",
        "        vacancies v\n",
        "        left join areas a on v.area_id = a.id\n",
        "    group by a.\"name\"\n",
        "    order by cnt desc\n",
        "    limit 5\n",
        " '''\n",
        "df_4_1 = pd.read_sql_query(query_4_1, connection)\n",
        "df_4_1\n"
      ]
    },
    {
      "cell_type": "markdown",
      "id": "P7QL86hrjhRJ",
      "metadata": {
        "id": "P7QL86hrjhRJ"
      },
      "source": [
        "---\n",
        "### <span style=\"color:green\">результат запроса</span>\n",
        "||area|cnt|\n",
        "|---|---|---|\n",
        "|0|Москва|5333|\n",
        "|1|Санкт-Петербург|2851|\n",
        "|2|Минск|2112|\n",
        "|3|Новосибирск|2006|\n",
        "|4|Алматы|1892|\n",
        "\n",
        "---"
      ]
    },
    {
      "cell_type": "markdown",
      "id": "4266f0b6-1646-492a-88b4-2f6a46502135",
      "metadata": {
        "id": "4266f0b6-1646-492a-88b4-2f6a46502135"
      },
      "source": [
        "2. Напишите запрос, чтобы определить у какого количества вакансий заполнено хотя бы одно из двух полей с зарплатой."
      ]
    },
    {
      "cell_type": "code",
      "execution_count": null,
      "id": "0c44b350-72eb-4d65-8b54-a1fc449ba9fd",
      "metadata": {
        "id": "0c44b350-72eb-4d65-8b54-a1fc449ba9fd"
      },
      "outputs": [],
      "source": [
        "# текст запроса\n",
        "query_4_2 = f'''\n",
        "    select count(*) as cnt\n",
        "        from vacancies\n",
        "    where \n",
        "        (salary_from is not null) or \n",
        "        (salary_to is not null)\n",
        "    limit 5\n",
        " '''\n",
        "df_4_2 = pd.read_sql_query(query_4_2, connection)\n",
        "df_4_2\n"
      ]
    },
    {
      "cell_type": "markdown",
      "id": "rhvwaMDkoWTi",
      "metadata": {
        "id": "rhvwaMDkoWTi"
      },
      "source": [
        "---\n",
        "### <span style=\"color:green\">результат запроса</span>\n",
        "<span style=\"color:yellow\">\n",
        "24073\n",
        "</span>\n",
        "\n",
        "---"
      ]
    },
    {
      "cell_type": "markdown",
      "id": "635c4d5d-f323-4c66-b428-50a088120aa0",
      "metadata": {
        "id": "635c4d5d-f323-4c66-b428-50a088120aa0"
      },
      "source": [
        "3. Найдите средние значения для нижней и верхней границы зарплатной вилки. Округлите значения до целого."
      ]
    },
    {
      "cell_type": "code",
      "execution_count": null,
      "id": "603cdbe4-0ec3-4106-8eaf-c73fcdd29165",
      "metadata": {
        "id": "603cdbe4-0ec3-4106-8eaf-c73fcdd29165"
      },
      "outputs": [],
      "source": [
        "# текст запроса\n",
        "query_4_3 = f'''\n",
        "    select \n",
        "        round(avg(salary_from),0) as avg_min, \n",
        "        round(avg(salary_to),0) as avg_max\n",
        "    from \n",
        "        vacancies\n",
        " '''\n",
        "df_4_3 = pd.read_sql_query(query_4_3, connection)\n",
        "df_4_3\n"
      ]
    },
    {
      "cell_type": "markdown",
      "id": "pswpAb66ovZZ",
      "metadata": {
        "id": "pswpAb66ovZZ"
      },
      "source": [
        "---\n",
        "### <span style=\"color:green\">результат запроса</span>\n",
        "|avg_min|avg_max|\n",
        "|---|---|\n",
        "|71065.0|110537.0|\n",
        "---"
      ]
    },
    {
      "cell_type": "markdown",
      "id": "f3fdaec9-5fd3-4260-9cf5-1d7406b628a5",
      "metadata": {
        "id": "f3fdaec9-5fd3-4260-9cf5-1d7406b628a5"
      },
      "source": [
        "4. Напишите запрос, который выведет количество вакансий для каждого сочетания типа рабочего графика (schedule) и типа трудоустройства (employment), используемого в вакансиях. Результат отсортируйте по убыванию количества.\n"
      ]
    },
    {
      "cell_type": "code",
      "execution_count": null,
      "id": "1ea710ec-871b-431e-9462-c7d0fd87011b",
      "metadata": {
        "id": "1ea710ec-871b-431e-9462-c7d0fd87011b"
      },
      "outputs": [],
      "source": [
        "# текст запроса\n",
        "query_4_4 = f'''\n",
        "    select\n",
        "        schedule,\n",
        "        employment,\n",
        "        count(*) as cnt\n",
        "    from \n",
        "        vacancies\n",
        "    group by \n",
        "        schedule,\n",
        "        employment\n",
        "    order by cnt desc\n",
        " '''\n",
        "df_4_4 = pd.read_sql_query(query_4_4, connection)\n",
        "df_4_4\n"
      ]
    },
    {
      "cell_type": "markdown",
      "id": "lGUVqavdo4JQ",
      "metadata": {
        "id": "lGUVqavdo4JQ"
      },
      "source": [
        "---\n",
        "### <span style=\"color:green\">результат запроса</span>\n",
        "|schedule|employment|cnt|\n",
        "|----|----|----|\n",
        "|Полный день|Полная занятость|35367|\n",
        "|Удаленная работа|Полная занятость|7802|\n",
        "|Гибкий график|Полная занятость|1593|\n",
        "|Удаленная работа|Частичная занятость|1312|\n",
        "|Сменный график|Полная занятость|940|\n",
        "|Полный день|Стажировка|569|\n",
        "|Вахтовый метод|Полная занятость|36|\n",
        "....\n",
        "---"
      ]
    },
    {
      "cell_type": "markdown",
      "id": "0136ffee-0ead-4a6b-b608-61d1c753a438",
      "metadata": {
        "id": "0136ffee-0ead-4a6b-b608-61d1c753a438"
      },
      "source": [
        "5. Напишите запрос, выводящий значения поля Требуемый опыт работы (experience) в порядке возрастания количества вакансий, в которых указан данный вариант опыта. "
      ]
    },
    {
      "cell_type": "code",
      "execution_count": null,
      "id": "5b3a8e79-f7ab-4008-b767-12aea3a205ea",
      "metadata": {
        "id": "5b3a8e79-f7ab-4008-b767-12aea3a205ea"
      },
      "outputs": [],
      "source": [
        "# текст запроса\n",
        "query_4_5 = f'''\n",
        "    select\n",
        "        experience,\n",
        "        count(*) as cnt\n",
        "    from \n",
        "        vacancies\n",
        "    group by \n",
        "        experience\n",
        "    order by cnt asc\n",
        " '''\n",
        "df_4_5 = pd.read_sql_query(query_4_5, connection)\n",
        "df_4_5\n"
      ]
    },
    {
      "cell_type": "markdown",
      "id": "3Is64Y-hpDpq",
      "metadata": {
        "id": "3Is64Y-hpDpq"
      },
      "source": [
        "---\n",
        "### <span style=\"color:green\">результат запроса</span>\n",
        "\n",
        "||experience|cnt|\n",
        "|-----|-----|--------|\n",
        "|0|Более 6 лет|1337|\n",
        "|1|Нет опыта|7197|\n",
        "|2|От 3 до 6 лет|14511|\n",
        "|3|От 1 года до 3 лет|26152|\n",
        "---"
      ]
    },
    {
      "cell_type": "markdown",
      "id": "oq2b7n1QpIka",
      "metadata": {
        "id": "oq2b7n1QpIka"
      },
      "source": [
        "***"
      ]
    },
    {
      "cell_type": "markdown",
      "id": "e91f87ed-e25c-4f96-9f92-b642e8c0b4fa",
      "metadata": {
        "id": "e91f87ed-e25c-4f96-9f92-b642e8c0b4fa"
      },
      "source": [
        "## <span style=\"color:red\">выводы по детальному анализу вакансий</span>\n",
        "Можно сделать выводы, что:\n",
        "1. Максимальное количество вакансий представлено в самых крупных деловых и промышленных центрах стран, в которых работает head hunter (hh), что является характерных для всех развитых стран.\n",
        "2. В половине вакансий не указан никакой уровень возможной зарплаты для кандидатов, что может говорить о высоком уровне непрозрачности на рынке труда и нежелании большого числа компаний афишировать реальные уровни оплат труда, существующих в данных компаниях.\n",
        "3. Средние значения \"вилки\" зарплат отличаются примерно в полтора раза, что немного. Наличие широкой \"вилки\" в предлагаемых зарплатах сведетельствует о том, что работодатели подходят к выбору сотрудника гибко, подбирая на позицию сотрудников с различным уровнем компетенции, и в дальнейшем \"рыращивая\" этих сотрудников до нужного уровня. Из представленной выборки можно сделать вывод, что клиенты hh расчитывают набрать сотрудников сразу с необходимым уровнем компетенций. Это, в свою очередь, может свидетельствовать о превышении спроса на вакансии над их предложением.\n",
        "4. Максимальное количество работодателей предлагают работу на полный рабочий день, однако удаленная работа набирает популярность.\n",
        "5. В более чем половине вакансий указан опых работы \"От 1 года до 3 лет\", что может свидетельствовать о стремлении работодателей к приему на работу молодых специалистов, недавно начавших работать.\n",
        "\n",
        "***\n"
      ]
    },
    {
      "cell_type": "markdown",
      "id": "7ea20ab6-04a7-40a0-adec-443a0e5a42c3",
      "metadata": {
        "id": "7ea20ab6-04a7-40a0-adec-443a0e5a42c3"
      },
      "source": [
        "# Юнит 5. Анализ работодателей"
      ]
    },
    {
      "cell_type": "markdown",
      "id": "968aed80-74ef-4ffb-b5bf-c65b84e9caea",
      "metadata": {
        "id": "968aed80-74ef-4ffb-b5bf-c65b84e9caea"
      },
      "source": [
        "1. Напишите запрос, который позволит узнать, какие работодатели находятся на первом и пятом месте по количеству вакансий."
      ]
    },
    {
      "cell_type": "code",
      "execution_count": null,
      "id": "f2d62796-d400-4ec1-a675-88112739a50e",
      "metadata": {
        "id": "f2d62796-d400-4ec1-a675-88112739a50e"
      },
      "outputs": [],
      "source": [
        "# текст запроса\n",
        "query_5_1 = f'''\n",
        "    with q as (\n",
        "        select \n",
        "            e.\"name\",\n",
        "            count(v.id) as cnt\n",
        "        from\n",
        "            vacancies v\n",
        "            left join employers e on v.employer_id = e.id\n",
        "        group by \n",
        "            e.\"name\"\n",
        "        order by \n",
        "            cnt desc\n",
        "    )\n",
        "    (select * from q limit 1)\n",
        "    union all\n",
        "    (select * from q  offset 4 limit 1)\n",
        "'''\n",
        "df_5_1 = pd.read_sql_query(query_5_1, connection)\n",
        "df_5_1 "
      ]
    },
    {
      "cell_type": "markdown",
      "id": "64tOMkAxqkQk",
      "metadata": {
        "id": "64tOMkAxqkQk"
      },
      "source": [
        "---\n",
        "### <span style=\"color:green\">результат запроса</span>\n",
        "\n",
        "||name|cnt|\n",
        "|----|----|----|\n",
        "|0|Яндекс|1933|\n",
        "|1|Газпром нефть|331|\n",
        "---"
      ]
    },
    {
      "cell_type": "markdown",
      "id": "68377cfc-b378-43dc-ab7d-1195abf2c515",
      "metadata": {
        "id": "68377cfc-b378-43dc-ab7d-1195abf2c515"
      },
      "source": [
        "2. Напишите запрос, который для каждого региона выведет количество работодателей и вакансий в нём.\n",
        "Среди регионов, в которых нет вакансий, найдите тот, в котором наибольшее количество работодателей.\n"
      ]
    },
    {
      "cell_type": "code",
      "execution_count": null,
      "id": "dd7df27a-e3e8-412e-a21a-5d389b71e891",
      "metadata": {
        "id": "dd7df27a-e3e8-412e-a21a-5d389b71e891"
      },
      "outputs": [],
      "source": [
        "# текст запроса\n",
        "query_5_2 = f'''\n",
        "    select\n",
        "        a.\"name\",\n",
        "        count(e.id) as emp_cnt,\n",
        "        count(v.id) as vac_cnt\n",
        "    from\n",
        "        areas a\n",
        "    left join vacancies v on v.area_id = a.id\n",
        "    join employers e on e.area = a.id \n",
        "    group by \n",
        "        a.\"name\"\n",
        "    having \n",
        "        count(v.id) = 0 and count(e.id) > 0\n",
        "    order by \n",
        "        vac_cnt asc, emp_cnt desc\n",
        "    limit 1\n",
        "'''\n",
        "df_5_2 = pd.read_sql_query(query_5_2, connection)\n",
        "df_5_2"
      ]
    },
    {
      "cell_type": "markdown",
      "id": "x1ikWbydrbf6",
      "metadata": {
        "id": "x1ikWbydrbf6"
      },
      "source": [
        "---\n",
        "### <span style=\"color:green\">результат запроса</span>\n",
        "\n",
        "||name|emp_cnt|vac_cnt|\n",
        "|----|----|----|----|\n",
        "|0|Россия|410|0|\n",
        "---"
      ]
    },
    {
      "cell_type": "markdown",
      "id": "f2fe0acb-ab1a-4e15-9326-2560e22d73c1",
      "metadata": {
        "id": "f2fe0acb-ab1a-4e15-9326-2560e22d73c1"
      },
      "source": [
        "3. Для каждого работодателя посчитайте количество регионов, в которых он публикует свои вакансии. Отсортируйте результат по убыванию количества.\n"
      ]
    },
    {
      "cell_type": "code",
      "execution_count": null,
      "id": "6271f8ad-bd2e-4196-ae4a-5b39c4c1010e",
      "metadata": {
        "id": "6271f8ad-bd2e-4196-ae4a-5b39c4c1010e"
      },
      "outputs": [],
      "source": [
        "# текст запроса\n",
        "query_5_3 = f'''\n",
        "    select \n",
        "        e.\"name\",    \n",
        "\t    count(q.area_id) as max_areas\n",
        "    from \n",
        "        (select distinct\n",
        "            v.employer_id,\n",
        "            v.area_id\n",
        "        from\n",
        "            vacancies v) q,\n",
        "        employers e    \n",
        "    where \n",
        "        e.id = q.employer_id\n",
        "    group by \n",
        "        e.\"name\"\n",
        "    order by \n",
        "        max_areas desc\n",
        "\tlimit 10      \n",
        "'''\n",
        "df_5_3 = pd.read_sql_query(query_5_3, connection)\n",
        "df_5_3"
      ]
    },
    {
      "cell_type": "markdown",
      "id": "1EIvX3HasH4F",
      "metadata": {
        "id": "1EIvX3HasH4F"
      },
      "source": [
        "---\n",
        "### <span style=\"color:green\">результат запроса</span>\n",
        "\n",
        "||name|max_areas|\n",
        "|----|----|----|\n",
        "|0|Яндекс|181|\n",
        "|1|Ростелеком|152|\n",
        "|2|Спецремонт|116|\n",
        "|3|Поляков Денис Иванович|88|\n",
        "|4|ООО ЕФИН|71|\n",
        "|5|Совкомбанк|63|\n",
        "|6|МТС|55|\n",
        "|7|ЭФКО, Управляющая компания|49|\n",
        "|8|КРОН|48|\n",
        "|9|Почта России|48|"
      ]
    },
    {
      "cell_type": "markdown",
      "id": "eab2206d-d95b-468b-8e5f-34381abf0ce7",
      "metadata": {
        "id": "eab2206d-d95b-468b-8e5f-34381abf0ce7"
      },
      "source": [
        "4. Напишите запрос для подсчёта количества работодателей, у которых не указана сфера деятельности. "
      ]
    },
    {
      "cell_type": "code",
      "execution_count": null,
      "id": "80defb23-bfb1-4a18-8be6-bf36aa7165d5",
      "metadata": {
        "id": "80defb23-bfb1-4a18-8be6-bf36aa7165d5"
      },
      "outputs": [],
      "source": [
        "# текст запроса\n",
        "query_5_4 = f'''\n",
        "    select \n",
        "        count(1) as employers_without_industres\n",
        "    from\n",
        "        employers e\n",
        "        left join employers_industries i ON i.employer_id = e.id\n",
        "    where \n",
        "        i.employer_id is null\n",
        "'''\n",
        "df_5_4 = pd.read_sql_query(query_5_4, connection)\n",
        "df_5_4"
      ]
    },
    {
      "cell_type": "markdown",
      "id": "Dp_yCx6ysQSu",
      "metadata": {
        "id": "Dp_yCx6ysQSu"
      },
      "source": [
        "---\n",
        "### <span style=\"color:green\">результат запроса</span>\n",
        "<span style=\"color:yellow\">\n",
        "8419\n",
        "</span>\n",
        "\n",
        "---"
      ]
    },
    {
      "cell_type": "markdown",
      "id": "0112af31-f6b0-4e3b-82ab-71296e752e5e",
      "metadata": {
        "id": "0112af31-f6b0-4e3b-82ab-71296e752e5e"
      },
      "source": [
        "5. Напишите запрос, чтобы узнать название компании, находящейся на третьем месте в алфавитном списке (по названию) компаний, у которых указано четыре сферы деятельности. "
      ]
    },
    {
      "cell_type": "code",
      "execution_count": null,
      "id": "973b0cfc-a972-470a-8b4a-68744ef220c4",
      "metadata": {
        "id": "973b0cfc-a972-470a-8b4a-68744ef220c4"
      },
      "outputs": [],
      "source": [
        "# текст запроса\n",
        "query_5_5 = f'''\n",
        "    select \n",
        "        name\n",
        "    from ( \t\n",
        "        select\n",
        "            e.\"name\",\n",
        "            count(i.industry_id) as cnt\n",
        "        from\n",
        "            employers e\n",
        "            join employers_industries i ON i.employer_id = e.id\n",
        "        group by \n",
        "            e.\"name\"\t\n",
        "        having \n",
        "            count(i.industry_id) = 4\n",
        "        order by \n",
        "            \"name\" asc\n",
        "        offset 2\n",
        "        limit 1) q\n",
        "'''\n",
        "df_5_5 = pd.read_sql_query(query_5_5, connection)\n",
        "df_5_5"
      ]
    },
    {
      "cell_type": "markdown",
      "id": "xsPtpp8EsaED",
      "metadata": {
        "id": "xsPtpp8EsaED"
      },
      "source": [
        "---\n",
        "### <span style=\"color:green\">результат запроса</span>\n",
        "<span style=\"color:yellow\">\n",
        "2ГИС\n",
        "</span>\n",
        "\n",
        "---"
      ]
    },
    {
      "cell_type": "markdown",
      "id": "3bfcfdaf-755d-4d2b-8ed8-326201dc07ab",
      "metadata": {
        "id": "3bfcfdaf-755d-4d2b-8ed8-326201dc07ab"
      },
      "source": [
        "6. С помощью запроса выясните, у какого количества работодателей в качестве сферы деятельности указана Разработка программного обеспечения.\n"
      ]
    },
    {
      "cell_type": "code",
      "execution_count": null,
      "id": "ad3f270f-2991-47eb-929b-e8f88a55b0d1",
      "metadata": {
        "id": "ad3f270f-2991-47eb-929b-e8f88a55b0d1"
      },
      "outputs": [],
      "source": [
        "# текст запроса\n",
        "query_5_6 = f'''\n",
        "    select\n",
        "        count(1) as cnt\n",
        "    from\n",
        "        employers_industries e\n",
        "        join industries i ON e.industry_id = i.id\n",
        "    where i.\"name\" = 'Разработка программного обеспечения'\n",
        "'''\n",
        "df_5_6 = pd.read_sql_query(query_5_6, connection)\n",
        "df_5_6"
      ]
    },
    {
      "cell_type": "markdown",
      "id": "H72qxWM0shPR",
      "metadata": {
        "id": "H72qxWM0shPR"
      },
      "source": [
        "---\n",
        "### <span style=\"color:green\">результат запроса</span>\n",
        "<span style=\"color:yellow\">\n",
        "3553\n",
        "</span>\n",
        "\n",
        "---"
      ]
    },
    {
      "cell_type": "markdown",
      "id": "7b02bb86-0546-40fb-94a4-242f050a5c57",
      "metadata": {
        "id": "7b02bb86-0546-40fb-94a4-242f050a5c57"
      },
      "source": [
        "7. Для компании «Яндекс» выведите список регионов-миллионников, в которых представлены вакансии компании, вместе с количеством вакансий в этих регионах. Также добавьте строку Total с общим количеством вакансий компании. Результат отсортируйте по возрастанию количества.\n",
        "\n",
        "Список городов-милионников надо взять [отсюда](https://ru.wikipedia.org/wiki/%D0%93%D0%BE%D1%80%D0%BE%D0%B4%D0%B0-%D0%BC%D0%B8%D0%BB%D0%BB%D0%B8%D0%BE%D0%BD%D0%B5%D1%80%D1%8B_%D0%A0%D0%BE%D1%81%D1%81%D0%B8%D0%B8). \n",
        "\n",
        "Если возникнут трудности с этим задание посмотрите материалы модуля  PYTHON-17. Как получать данные из веб-источников и API. "
      ]
    },
    {
      "cell_type": "code",
      "execution_count": 18,
      "id": "ZdfrL6gIs1Pn",
      "metadata": {
        "id": "ZdfrL6gIs1Pn"
      },
      "outputs": [
        {
          "name": "stdout",
          "output_type": "stream",
          "text": [
            "['Москва', 'Санкт-Петербург', 'Новосибирск', 'Екатеринбург', 'Казань', 'Красноярск', 'Нижний Новгород', 'Челябинск', 'Уфа', 'Самара', 'Ростов-на-Дону', 'Краснодар', 'Омск', 'Воронеж', 'Пермь', 'Волгоград']\n"
          ]
        }
      ],
      "source": [
        "# код для получения списка городов-милионников\n",
        "import requests\n",
        "from bs4 import BeautifulSoup\n",
        "url = 'https://ru.wikipedia.org/wiki/%D0%93%D0%BE%D1%80%D0%BE%D0%B4%D0%B0-%D0%BC%D0%B8%D0%BB%D0%BB%D0%B8%D0%BE%D0%BD%D0%B5%D1%80%D1%8B_%D0%A0%D0%BE%D1%81%D1%81%D0%B8%D0%B8'\n",
        "list_cities = []\n",
        "\n",
        "response = requests.get(url)\n",
        "page = BeautifulSoup(response.text, 'html.parser')\n",
        "# Получим таблицу с данными\n",
        "table = page.find('table', class_ = 'standard sortable')\n",
        "for el in table.find_all('td'):\n",
        "    city_name = el.find('a')\n",
        "    if not (city_name is None):\n",
        "        list_cities.append(city_name.text)\n",
        "print(list_cities)\n"
      ]
    },
    {
      "cell_type": "code",
      "execution_count": null,
      "id": "5a0e32a4-e68a-4365-8a39-2fe24c542c36",
      "metadata": {
        "id": "5a0e32a4-e68a-4365-8a39-2fe24c542c36"
      },
      "outputs": [],
      "source": [
        "# текст запроса\n",
        "query_5_7 = f'''\n",
        "with q as \n",
        "(\n",
        "\tselect \n",
        "\t\ta.\"name\" as area_name\n",
        "\t\t,count(1) as cnt\n",
        "\tfrom \n",
        "\t\tvacancies v  \n",
        "\t\tjoin areas a on a.id = v.area_id \n",
        "\t\tjoin employers e on e.id = v.employer_id \n",
        "\twhere \n",
        "\t\ta.\"name\" in ({\"'\" + \"','\".join(list_cities) + \"'\"}) \n",
        "\t\tand e.\"name\"  = 'Яндекс'\n",
        "\tgroup by \n",
        "\t\ta.\"name\" \t\n",
        "\torder by cnt asc \n",
        ")\t\n",
        "select area_name, cnt from q\n",
        "union all\n",
        "select 'Total', sum(cnt) as cnt_t from q    \n",
        "    \n",
        "'''\n",
        "\n",
        "df_5_7 = pd.read_sql_query(query_5_7, connection)\n",
        "df_5_7"
      ]
    },
    {
      "cell_type": "markdown",
      "id": "ttPhiO1rsvPq",
      "metadata": {
        "id": "ttPhiO1rsvPq"
      },
      "source": [
        "---\n",
        "### <span style=\"color:green\">результат запроса</span>\n",
        "\n",
        "|area_name|cnt|\n",
        "|---------|---|\n",
        "|Омск|21|\n",
        "|Челябинск|22|\n",
        "|Красноярск|23|\n",
        "|Волгоград|24|\n",
        "|Пермь|25|\n",
        "|Казань|25|\n",
        "|Ростов-на-Дону|25|\n",
        "|Уфа|26|\n",
        "|Самара|26|\n",
        "|Краснодар|30|\n",
        "|Воронеж|32|\n",
        "|Новосибирск|35|\n",
        "|Нижний Новгород|36|\n",
        "|Екатеринбург|39|\n",
        "|Санкт-Петербург|42|\n",
        "|Москва|54|\n",
        "|Total|485|"
      ]
    },
    {
      "cell_type": "markdown",
      "id": "04966e40-3bc3-4dc8-9ba2-e80580ce3abc",
      "metadata": {
        "id": "04966e40-3bc3-4dc8-9ba2-e80580ce3abc"
      },
      "source": [
        "***"
      ]
    },
    {
      "cell_type": "markdown",
      "id": "aGGyER-yt4SR",
      "metadata": {
        "id": "aGGyER-yt4SR"
      },
      "source": [
        "## <span style=\"color:red\">выводы по анализу работодателей</span>\n",
        "\n",
        "На основе анализа работодателей можно сделать следующие выводы:\n",
        "1. На первом месте по количеству вакансий стоит компания \"Яндекс\", что говорит о высоких темпах развития компании, которой для новых проектов нужно большое количество новых специалистов. При этом пятерку по количеству вакансий с большим отрывом замыкает \"Газпромнефть\", что вероятно, характерно для традиционных компаний с невысокими темпами развития и высокими объемами капитальных вложений.\n",
        "2. В России достаточно большое (410) количество регионом (городов), в которых на hh не представлено вообще никаких вакансий. Причина этого, вероятно в том, что в некоторых регионах, особенно небольших, подбод персонала происходит на \"горизонтальном\" уровне: через знакомых, местные СМИ и т.п.\n",
        "3. Из компаний, максимально широко представленных в разных регионах опять \"впереди планеты всей\" \"Яндекс\", что может говорить о политике \"Яндекса\" по привлеченеию талантливых специалистов из разных регионов РФ. На втором месте \"Ростелеком\", что не удивительно, т.к. компания присуьтсвует во всех городах и селах РФ. Неожибанно мало представлена \"Почта России\" (48 регионов). Это может говорить о использовании компанией \"Почта России\" иных, чем hh, каналов подбора персонала\n",
        "4. Более 17% работодателей не указали сферу деятельности, что трудно объяснить, и, вероятно, свидетельствует о широко распространеной небрежности при заполнении вакансий на hh.\n",
        "5. Из компаний, представленных в выборке данных hh только 3553 (7,2 процента от общего количества работодателей, представленных в выборке) имеют вид деятельности \"Разработка программного обеспечения\". Это говорит о том, что разработка ПО в структуре экономики РФ и стран ближнего зарубежья представлена довольно мало и имеет большой потенциал роста.  \n",
        "6. Среди вакансий компании \"Яндекс\" только 25% представлены в городах-миллионниках, что может свидетельствовать о прогрессивной методике подбора персонала, когда таланты ищются по всей стране, независимо от размера и статуса населенного пункта.\n",
        " \n",
        " \n",
        "***\n"
      ]
    },
    {
      "cell_type": "markdown",
      "id": "b1ef156a-efcb-49ce-bb23-90763e7f35b2",
      "metadata": {
        "id": "b1ef156a-efcb-49ce-bb23-90763e7f35b2",
        "tags": []
      },
      "source": [
        "# Юнит 6. Предметный анализ"
      ]
    },
    {
      "cell_type": "markdown",
      "id": "b9cd50a0-992d-4988-8463-2b2b1c4629b4",
      "metadata": {
        "id": "b9cd50a0-992d-4988-8463-2b2b1c4629b4"
      },
      "source": [
        "1. Сколько вакансий имеет отношение к данным?\n",
        "\n",
        "Считаем, что вакансия имеет отношение к данным, если в её названии содержатся слова 'data' или 'данн'.\n",
        "\n",
        "*Подсказка: Обратите внимание, что названия вакансий могут быть написаны в любом регистре.* \n"
      ]
    },
    {
      "cell_type": "code",
      "execution_count": null,
      "id": "54ab0e50-c0f1-47cc-a54b-bc5c8bc363f9",
      "metadata": {
        "id": "54ab0e50-c0f1-47cc-a54b-bc5c8bc363f9"
      },
      "outputs": [],
      "source": [
        "# текст запроса\n",
        "query_6_1 = f'''\n",
        "    select \n",
        "        count(1) as cnt \n",
        "    from \n",
        "        vacancies v  \n",
        "    where \n",
        "        lower(v.\"name\") like '%data%' or \n",
        "        lower(v.\"name\") like '%данн%'\n",
        " '''\n",
        "df_6_1 = pd.read_sql_query(query_6_1, connection)\n",
        "df_6_1"
      ]
    },
    {
      "cell_type": "markdown",
      "id": "9F1meAqsuUjd",
      "metadata": {
        "id": "9F1meAqsuUjd"
      },
      "source": [
        "---\n",
        "### <span style=\"color:green\">результат запроса</span>\n",
        "Сколько вакансий имеет отношение к данным: ### <span style=\"color:yellow\">1771</span>\n",
        "\n",
        "---"
      ]
    },
    {
      "cell_type": "markdown",
      "id": "4dea20cb-a36b-474a-a0b9-e08e8e3857a5",
      "metadata": {
        "id": "4dea20cb-a36b-474a-a0b9-e08e8e3857a5"
      },
      "source": [
        "2. Сколько есть подходящих вакансий для начинающего дата-сайентиста? \n",
        "Будем считать вакансиями для дата-сайентистов такие, в названии которых есть хотя бы одно из следующих сочетаний:\n",
        "* 'data scientist'\n",
        "* 'data science'\n",
        "* 'исследователь данных'\n",
        "* 'ML' (здесь не нужно брать вакансии по HTML)\n",
        "* 'machine learning'\n",
        "* 'машинн%обучен%'\n",
        "\n",
        "** В следующих заданиях мы продолжим работать с вакансиями по этому условию.*\n",
        "\n",
        "Считаем вакансиями для специалистов уровня Junior следующие:\n",
        "* в названии есть слово 'junior' *или*\n",
        "* требуемый опыт — Нет опыта *или*\n",
        "* тип трудоустройства — Стажировка.\n",
        " "
      ]
    },
    {
      "cell_type": "code",
      "execution_count": null,
      "id": "9c61b3c0-bb66-46c9-ae1e-81d3f5752b4a",
      "metadata": {
        "id": "9c61b3c0-bb66-46c9-ae1e-81d3f5752b4a"
      },
      "outputs": [],
      "source": [
        "# текст запроса\n",
        "# текст запроса\n",
        "query_6_2 = f'''\n",
        "    select \n",
        "        count(1)  as cnt\n",
        "    from \n",
        "        vacancies v  \n",
        "        where (\n",
        "                v.\"name\" ilike '%data scientist%'\n",
        "                or v.\"name\" ilike '%data science%'\n",
        "                or v.\"name\" ilike '%исследователь данных%'\n",
        "                or v.\"name\" ilike '%ML%'\n",
        "                or v.\"name\" ilike '%machine learning%'\n",
        "                or v.\"name\" ilike '%машинн%обучен%'\n",
        "            ) \n",
        "            and v.\"name\" not ilike '%HTML%'\n",
        "            and (\n",
        "                lower(v.\"name\") like '%junior%' \n",
        "                or v.experience = 'Нет опыта' \n",
        "                or v.employment = 'Стажировка'\n",
        "            ) \n",
        "'''\n",
        "df_6_2 = pd.read_sql_query(query_6_2, connection)\n",
        "df_6_2"
      ]
    },
    {
      "cell_type": "markdown",
      "id": "ZNM-LLYuu1dj",
      "metadata": {
        "id": "ZNM-LLYuu1dj"
      },
      "source": [
        "---\n",
        "### <span style=\"color:green\">результат запроса</span>\n",
        "<span style=\"color:yellow\">\n",
        "51\n",
        "</span>\n",
        "\n",
        "---"
      ]
    },
    {
      "cell_type": "markdown",
      "id": "eedceb80-c5ca-480e-b27a-278dfb8b4438",
      "metadata": {
        "id": "eedceb80-c5ca-480e-b27a-278dfb8b4438"
      },
      "source": [
        "3. Сколько есть вакансий для DS, в которых в качестве ключевого навыка указан SQL или postgres?\n",
        "\n",
        "** Критерии для отнесения вакансии к DS указаны в предыдущем задании.*"
      ]
    },
    {
      "cell_type": "code",
      "execution_count": null,
      "id": "69621713-0cc5-4f1b-a1d7-bb144fa6148c",
      "metadata": {
        "id": "69621713-0cc5-4f1b-a1d7-bb144fa6148c"
      },
      "outputs": [],
      "source": [
        "# текст запроса\n",
        "query_6_3 = f'''\n",
        "    with ds as (\n",
        "        select \n",
        "            v.*\n",
        "        from \n",
        "            vacancies v  \n",
        "        where (\n",
        "            v.\"name\" ilike '%data scientist%'\n",
        "            or v.\"name\" ilike '%data science%'\n",
        "            or v.\"name\" ilike '%исследователь данных%'\n",
        "            or v.\"name\" ilike '%ML%'\n",
        "            or v.\"name\" ilike '%machine learning%'\n",
        "            or v.\"name\" ilike '%машинн%обучен%'\n",
        "            ) and v.\"name\" not ilike '%HTML%'\n",
        "    )\t\n",
        "    select \n",
        "    count(1) as cnt  \n",
        "    from ds\n",
        "    where \n",
        "        (ds.key_skills ilike '%sql%' or ds.key_skills ilike '%postgres%')\n",
        "'''\n",
        "df_6_3 = pd.read_sql_query(query_6_3, connection)\n",
        "df_6_3"
      ]
    },
    {
      "cell_type": "markdown",
      "id": "alA8WEAAvGdf",
      "metadata": {
        "id": "alA8WEAAvGdf"
      },
      "source": [
        "---\n",
        "### <span style=\"color:green\">результат запроса</span>\n",
        "<span style=\"color:yellow\">\n",
        "229\n",
        "</span>\n",
        "\n",
        "---"
      ]
    },
    {
      "cell_type": "markdown",
      "id": "1be1e9c6-37cf-4a5f-bfeb-04cab799dc80",
      "metadata": {
        "id": "1be1e9c6-37cf-4a5f-bfeb-04cab799dc80"
      },
      "source": [
        "4. Проверьте, насколько популярен Python в требованиях работодателей к DS.Для этого вычислите количество вакансий, в которых в качестве ключевого навыка указан Python.\n",
        "\n",
        "** Это можно сделать помощью запроса, аналогичного предыдущему.*"
      ]
    },
    {
      "cell_type": "code",
      "execution_count": null,
      "id": "0036a355-9ccf-4564-8b01-73d8194297e7",
      "metadata": {
        "id": "0036a355-9ccf-4564-8b01-73d8194297e7"
      },
      "outputs": [],
      "source": [
        "# текст запроса\n",
        "query_6_4 = f'''\n",
        "    with ds as (\n",
        "        select \n",
        "            v.*\n",
        "        from \n",
        "            vacancies v  \n",
        "        where (\n",
        "            v.\"name\" ilike '%data scientist%'\n",
        "            or v.\"name\" ilike '%data science%'\n",
        "            or v.\"name\" ilike '%исследователь данных%'\n",
        "            or v.\"name\" ilike '%ML%'\n",
        "            or v.\"name\" ilike '%machine learning%'\n",
        "            or v.\"name\" ilike '%машинн%обучен%'\n",
        "            ) and v.\"name\" not ilike '%HTML%'\n",
        "    )\t\n",
        "    select count(1) as cnt  \n",
        "    from ds\n",
        "    where \n",
        "        ds.key_skills ilike '%Python%'    \n",
        "'''\n",
        "df_6_4 = pd.read_sql_query(query_6_4, connection)\n",
        "df_6_4"
      ]
    },
    {
      "cell_type": "markdown",
      "id": "1i-5WyucvQ6v",
      "metadata": {
        "id": "1i-5WyucvQ6v"
      },
      "source": [
        "---\n",
        "### <span style=\"color:green\">результат запроса</span>\n",
        "<span style=\"color:yellow\">\n",
        "357\n",
        "</span>\n",
        "\n",
        "---"
      ]
    },
    {
      "cell_type": "markdown",
      "id": "ec3c8db7-fa21-4a41-a994-1af63742a642",
      "metadata": {
        "id": "ec3c8db7-fa21-4a41-a994-1af63742a642"
      },
      "source": [
        "5. Сколько ключевых навыков в среднем указывают в вакансиях для DS?\n",
        "Ответ округлите до двух знаков после точки-разделителя."
      ]
    },
    {
      "cell_type": "code",
      "execution_count": null,
      "id": "949132bc-d5b6-4611-8218-0b9a504d74f4",
      "metadata": {
        "id": "949132bc-d5b6-4611-8218-0b9a504d74f4"
      },
      "outputs": [],
      "source": [
        "# текст запроса\n",
        "query_6_5 = f'''\n",
        "    with ds as (\n",
        "        select \n",
        "            v.*\n",
        "        from \n",
        "            vacancies v  \n",
        "        where (\n",
        "            v.\"name\" ilike '%data scientist%'\n",
        "            or v.\"name\" ilike '%data science%'\n",
        "            or v.\"name\" ilike '%исследователь данных%'\n",
        "            or v.\"name\" ilike '%ML%'\n",
        "            or v.\"name\" ilike '%machine learning%'\n",
        "            or v.\"name\" ilike '%машинн%обучен%'\n",
        "            ) and v.\"name\" not ilike '%HTML%'\n",
        "    )\t\n",
        "    select round(avg(length(ds.key_skills) - length(replace(ds.key_skills,chr(9),'')) + 1),2) as skiils_avg\n",
        "    from ds\n",
        "    where \n",
        "        ds.key_skills ilike '%Python%'\n",
        "'''\n",
        "df_6_5 = pd.read_sql_query(query_6_5, connection)\n",
        "df_6_5"
      ]
    },
    {
      "cell_type": "markdown",
      "id": "a3V24Tvmviqk",
      "metadata": {
        "id": "a3V24Tvmviqk"
      },
      "source": [
        "---\n",
        "### <span style=\"color:green\">результат запроса</span>\n",
        "<span style=\"color:yellow\">\n",
        "6.59\n",
        "</span>\n",
        "\n",
        "---"
      ]
    },
    {
      "cell_type": "markdown",
      "id": "1041c17a-ca8f-4543-a0ca-32778914fb00",
      "metadata": {
        "id": "1041c17a-ca8f-4543-a0ca-32778914fb00"
      },
      "source": [
        "6. Напишите запрос, позволяющий вычислить, какую зарплату для DS в **среднем** указывают для каждого типа требуемого опыта (уникальное значение из поля *experience*). \n",
        "\n",
        "При решении задачи примите во внимание следующее:\n",
        "1. Рассматриваем только вакансии, у которых заполнено хотя бы одно из двух полей с зарплатой.\n",
        "2. Если заполнены оба поля с зарплатой, то считаем зарплату по каждой вакансии как сумму двух полей, делённую на 2. Если заполнено только одно из полей, то его и считаем зарплатой по вакансии.\n",
        "3. Если в расчётах участвует null, в результате он тоже даст null (посмотрите, что возвращает запрос select 1 + null). Чтобы избежать этой ситуацию, мы воспользуемся функцией [coalesce](https://postgrespro.ru/docs/postgresql/9.5/functions-conditional#functions-coalesce-nvl-ifnull), которая заменит null на значение, которое мы передадим. Например, посмотрите, что возвращает запрос `select 1 + coalesce(null, 0)`\n",
        "\n",
        "Выясните, на какую зарплату в среднем может рассчитывать дата-сайентист с опытом работы от 3 до 6 лет. Результат округлите до целого числа. "
      ]
    },
    {
      "cell_type": "code",
      "execution_count": null,
      "id": "6a743d39-5204-48d3-8271-b9f88e68d40e",
      "metadata": {
        "id": "6a743d39-5204-48d3-8271-b9f88e68d40e"
      },
      "outputs": [],
      "source": [
        "# текст запроса\n",
        "query_6_6 = f'''\n",
        "    with ds as (\n",
        "        select \n",
        "            v.*\n",
        "        from \n",
        "            vacancies v  \n",
        "        where (\n",
        "            v.\"name\" ilike '%data scientist%'\n",
        "            or v.\"name\" ilike '%data science%'\n",
        "            or v.\"name\" ilike '%исследователь данных%'\n",
        "            or v.\"name\" ilike '%ML%'\n",
        "            or v.\"name\" ilike '%machine learning%'\n",
        "            or v.\"name\" ilike '%машинн%обучен%'\n",
        "            ) and v.\"name\" not ilike '%HTML%'\n",
        "    )\t\n",
        "    select \n",
        "        ds.experience,\n",
        "        round(avg((coalesce (salary_from, salary_to) + coalesce (salary_to, salary_from)) / 2),0) as salary_avg\n",
        "    from ds\n",
        "    where \n",
        "        ds.salary_from is not null or ds.salary_to is not null \n",
        "    group by \n",
        "        ds.experience\n",
        "'''\n",
        "df_6_6 = pd.read_sql_query(query_6_6, connection)\n",
        "df_6_6"
      ]
    },
    {
      "cell_type": "markdown",
      "id": "aRIJ0mZEwU1_",
      "metadata": {
        "id": "aRIJ0mZEwU1_"
      },
      "source": [
        "---\n",
        "### <span style=\"color:green\">результат запроса</span>\n",
        "\n",
        "|experience|salary_avg|\n",
        "|----------|----------|\n",
        "|От 3 до 6 лет|256454|\n",
        "|От 1 года до 3 лет|144233|\n",
        "|Более 6 лет|157933|\n",
        "|Нет опыта|74643|\n",
        "\n"
      ]
    },
    {
      "cell_type": "markdown",
      "id": "6a7892b4-4113-4746-adce-18aa2844f18e",
      "metadata": {
        "id": "6a7892b4-4113-4746-adce-18aa2844f18e"
      },
      "source": [
        "***"
      ]
    },
    {
      "cell_type": "markdown",
      "id": "UjLWUptVwY1o",
      "metadata": {
        "id": "UjLWUptVwY1o"
      },
      "source": [
        "## <span style=\"color:red\">выводы по предметному анализу</span>\n",
        "\n",
        "На основе предметного анализа рынка труда из выборки hh можно сделать следующие выводы:\n",
        "1. Всего 3,6% процентов вакансий в выборке имеют какое-либо отношение к данным, в т.ч. к DataScience\n",
        "2. Из них в менее, чем 3% случаев, готовы брать на работу молодых специалистов\n",
        "3. В 43% случаев, для профессии DataScience нужно умение работать с реляционными базани данных (SQL, Postgres)\n",
        "4. В 66.7% случаев, для профессии DataScience нужно знание Python\n",
        "5. Для профессии DataScience нужно имень широкий диапазон знаний и навыков, в среднем больше 6.\n",
        "6. Но при этом в DataScience таки платят деньги! Даже с относительно небольшим опытом. Это говорит о:\n",
        "    - DataScience молодая сфера\n",
        "    - В ней не хватает специалистов\n",
        "    - Но специалисты нужны грамотные\n",
        "\n",
        "\n",
        " \n",
        "***\n"
      ]
    },
    {
      "cell_type": "markdown",
      "id": "c0ED6fh7wiBT",
      "metadata": {
        "id": "c0ED6fh7wiBT"
      },
      "source": [
        "# Общий вывод по проекту"
      ]
    },
    {
      "cell_type": "markdown",
      "id": "h9B3BL-wwj18",
      "metadata": {
        "id": "h9B3BL-wwj18"
      },
      "source": [
        "В целом, ИТ - переспективная и быстрорастущая область экономики, при этом создание программных продуктов пока еще составляет достаточно малую часть в общей массе вакансий.\n",
        "\n",
        "DataScience - молодая и перспективная область знаний, в которой не хватает специалистов, по при этом и спрос на таких специалистов очень мал по сравнению с другими сферами деятельности. При этом требования к уровню специалистов очень высокие, как и уровень оплаты таких специалистов.\n",
        "\n",
        "Для определения наболее востребованных областей знаний в ИТ было бы интересно проанализировать требуемые навыки и уровни оптаты, и выбрать из них топ-5 (как в разрезе всей отрасли, так и отдельно по \"Яндекс'у\")\n",
        "\n",
        " \n",
        "***\n"
      ]
    }
  ],
  "metadata": {
    "colab": {
      "collapsed_sections": [
        "8d62a9f3-f64e-4fe7-bdac-c4dffa16155e"
      ],
      "provenance": []
    },
    "kernelspec": {
      "display_name": "Python 3 (ipykernel)",
      "language": "python",
      "name": "python3"
    },
    "language_info": {
      "codemirror_mode": {
        "name": "ipython",
        "version": 3
      },
      "file_extension": ".py",
      "mimetype": "text/x-python",
      "name": "python",
      "nbconvert_exporter": "python",
      "pygments_lexer": "ipython3",
      "version": "3.10.12"
    }
  },
  "nbformat": 4,
  "nbformat_minor": 5
}
